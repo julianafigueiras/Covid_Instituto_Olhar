{
 "cells": [
  {
   "cell_type": "markdown",
   "metadata": {},
   "source": [
    "# Base Utilizada para Tratativa dos Dados - Base CSV para Streamlit"
   ]
  },
  {
   "cell_type": "code",
   "execution_count": 254,
   "metadata": {},
   "outputs": [],
   "source": [
    "import pandas as pd\n",
    "import numpy as np"
   ]
  },
  {
   "cell_type": "code",
   "execution_count": 255,
   "metadata": {},
   "outputs": [],
   "source": [
    "df = pd.read_csv('base_covid19-utf8.csv', sep='\\t')"
   ]
  },
  {
   "cell_type": "markdown",
   "metadata": {},
   "source": [
    " "
   ]
  },
  {
   "cell_type": "markdown",
   "metadata": {},
   "source": [
    "Visualizando os dados: "
   ]
  },
  {
   "cell_type": "code",
   "execution_count": 256,
   "metadata": {},
   "outputs": [
    {
     "data": {
      "text/html": [
       "<div>\n",
       "<style scoped>\n",
       "    .dataframe tbody tr th:only-of-type {\n",
       "        vertical-align: middle;\n",
       "    }\n",
       "\n",
       "    .dataframe tbody tr th {\n",
       "        vertical-align: top;\n",
       "    }\n",
       "\n",
       "    .dataframe thead th {\n",
       "        text-align: right;\n",
       "    }\n",
       "</style>\n",
       "<table border=\"1\" class=\"dataframe\">\n",
       "  <thead>\n",
       "    <tr style=\"text-align: right;\">\n",
       "      <th></th>\n",
       "      <th>ID</th>\n",
       "      <th>QUESTIONARIO_COMPLETO</th>\n",
       "      <th>APOIO_ISOL_SOCIAL</th>\n",
       "      <th>COMP_FAM_ISOL_SOCIAL</th>\n",
       "      <th>NÖVEL_ISOL_SOCIAL</th>\n",
       "      <th>MAX_SEMANAS_APOIO_ISOL</th>\n",
       "      <th>RECEIO_CORONA</th>\n",
       "      <th>AVAL_GRAV_CORONA</th>\n",
       "      <th>RECEIO_AMIG_FAM_CORONA</th>\n",
       "      <th>AMIG_FAM_DIAG_CORONA</th>\n",
       "      <th>...</th>\n",
       "      <th>ESTADO</th>\n",
       "      <th>CIDADE_RMBH</th>\n",
       "      <th>CIDADE_INTERIOR</th>\n",
       "      <th>CIDADE_OUTROS_ESTADOS</th>\n",
       "      <th>PEA_PNEA</th>\n",
       "      <th>DESEMPREGADO_CRISE</th>\n",
       "      <th>CONV_GRUPO_RISCO</th>\n",
       "      <th>PEA_CLASS</th>\n",
       "      <th>LOCALIZA€ÇO</th>\n",
       "      <th>CLASSE</th>\n",
       "    </tr>\n",
       "  </thead>\n",
       "  <tbody>\n",
       "    <tr>\n",
       "      <th>0</th>\n",
       "      <td>1</td>\n",
       "      <td>Sim</td>\n",
       "      <td>7</td>\n",
       "      <td>6</td>\n",
       "      <td>Reduziu o contato social, mas nÆo est  fazendo...</td>\n",
       "      <td>3</td>\n",
       "      <td>6</td>\n",
       "      <td>9</td>\n",
       "      <td>8</td>\n",
       "      <td>NÆo conhe‡o</td>\n",
       "      <td>...</td>\n",
       "      <td>Minas Gerais</td>\n",
       "      <td>Lagoa Santa</td>\n",
       "      <td>NaN</td>\n",
       "      <td>NaN</td>\n",
       "      <td>Trabalhou (Empregado/ Por Conta Pr¢pria/ Empre...</td>\n",
       "      <td>NaN</td>\n",
       "      <td>Sim</td>\n",
       "      <td>PEA</td>\n",
       "      <td>RMBH</td>\n",
       "      <td>D/E</td>\n",
       "    </tr>\n",
       "    <tr>\n",
       "      <th>1</th>\n",
       "      <td>2</td>\n",
       "      <td>Sim</td>\n",
       "      <td>6</td>\n",
       "      <td>10ÿ ÿMuito</td>\n",
       "      <td>Est  fazendo o isolamento com rigor, mas preci...</td>\n",
       "      <td>6</td>\n",
       "      <td>8</td>\n",
       "      <td>10ÿ ÿ Muito grave</td>\n",
       "      <td>10ÿ ÿMuito receio</td>\n",
       "      <td>Sim. Conhe‡o casos CONFIRMADOS. Quantos?</td>\n",
       "      <td>...</td>\n",
       "      <td>Minas Gerais</td>\n",
       "      <td>Belo Horizonte</td>\n",
       "      <td>NaN</td>\n",
       "      <td>NaN</td>\n",
       "      <td>Trabalhou (Empregado/ Por Conta Pr¢pria/ Empre...</td>\n",
       "      <td>NaN</td>\n",
       "      <td>Sim</td>\n",
       "      <td>PEA</td>\n",
       "      <td>BELO HORIZONTE</td>\n",
       "      <td>D/E</td>\n",
       "    </tr>\n",
       "    <tr>\n",
       "      <th>2</th>\n",
       "      <td>3</td>\n",
       "      <td>Sim</td>\n",
       "      <td>9</td>\n",
       "      <td>8</td>\n",
       "      <td>Est  fazendo o isolamento com rigor, mas preci...</td>\n",
       "      <td>12</td>\n",
       "      <td>7</td>\n",
       "      <td>10ÿ ÿ Muito grave</td>\n",
       "      <td>10ÿ ÿMuito receio</td>\n",
       "      <td>NÆo conhe‡o</td>\n",
       "      <td>...</td>\n",
       "      <td>Minas Gerais</td>\n",
       "      <td>Belo Horizonte</td>\n",
       "      <td>NaN</td>\n",
       "      <td>NaN</td>\n",
       "      <td>Trabalhou (Empregado/ Por Conta Pr¢pria/ Empre...</td>\n",
       "      <td>NaN</td>\n",
       "      <td>NÆo</td>\n",
       "      <td>PEA</td>\n",
       "      <td>BELO HORIZONTE</td>\n",
       "      <td>B</td>\n",
       "    </tr>\n",
       "    <tr>\n",
       "      <th>3</th>\n",
       "      <td>4</td>\n",
       "      <td>Sim</td>\n",
       "      <td>7</td>\n",
       "      <td>8</td>\n",
       "      <td>Est  fazendo o isolamento com rigor, mas preci...</td>\n",
       "      <td>8</td>\n",
       "      <td>9</td>\n",
       "      <td>5</td>\n",
       "      <td>9</td>\n",
       "      <td>NÆo conhe‡o</td>\n",
       "      <td>...</td>\n",
       "      <td>Distrito Federal</td>\n",
       "      <td>NaN</td>\n",
       "      <td>NaN</td>\n",
       "      <td>Bras¡lia</td>\n",
       "      <td>Trabalhou (Empregado/ Por Conta Pr¢pria/ Empre...</td>\n",
       "      <td>NaN</td>\n",
       "      <td>NÆo</td>\n",
       "      <td>PEA</td>\n",
       "      <td>OUTROS ESTADOS</td>\n",
       "      <td>C</td>\n",
       "    </tr>\n",
       "    <tr>\n",
       "      <th>4</th>\n",
       "      <td>5</td>\n",
       "      <td>Sim</td>\n",
       "      <td>9</td>\n",
       "      <td>9</td>\n",
       "      <td>Est  fazendo o isolamento com rigor, mas preci...</td>\n",
       "      <td>5</td>\n",
       "      <td>7</td>\n",
       "      <td>10ÿ ÿ Muito grave</td>\n",
       "      <td>9</td>\n",
       "      <td>NÆo conhe‡o</td>\n",
       "      <td>...</td>\n",
       "      <td>Minas Gerais</td>\n",
       "      <td>Lagoa Santa</td>\n",
       "      <td>NaN</td>\n",
       "      <td>NaN</td>\n",
       "      <td>Trabalhou (Empregado/ Por Conta Pr¢pria/ Empre...</td>\n",
       "      <td>NaN</td>\n",
       "      <td>Sim</td>\n",
       "      <td>PEA</td>\n",
       "      <td>RMBH</td>\n",
       "      <td>D/E</td>\n",
       "    </tr>\n",
       "  </tbody>\n",
       "</table>\n",
       "<p>5 rows × 41 columns</p>\n",
       "</div>"
      ],
      "text/plain": [
       "   ID QUESTIONARIO_COMPLETO APOIO_ISOL_SOCIAL COMP_FAM_ISOL_SOCIAL  \\\n",
       "0   1                   Sim                 7                    6   \n",
       "1   2                   Sim                 6           10ÿ ÿMuito   \n",
       "2   3                   Sim                 9                    8   \n",
       "3   4                   Sim                 7                    8   \n",
       "4   5                   Sim                 9                    9   \n",
       "\n",
       "                                   NÖVEL_ISOL_SOCIAL  MAX_SEMANAS_APOIO_ISOL  \\\n",
       "0  Reduziu o contato social, mas nÆo est  fazendo...                       3   \n",
       "1  Est  fazendo o isolamento com rigor, mas preci...                       6   \n",
       "2  Est  fazendo o isolamento com rigor, mas preci...                      12   \n",
       "3  Est  fazendo o isolamento com rigor, mas preci...                       8   \n",
       "4  Est  fazendo o isolamento com rigor, mas preci...                       5   \n",
       "\n",
       "  RECEIO_CORONA   AVAL_GRAV_CORONA RECEIO_AMIG_FAM_CORONA  \\\n",
       "0             6                  9                      8   \n",
       "1             8  10ÿ ÿ Muito grave      10ÿ ÿMuito receio   \n",
       "2             7  10ÿ ÿ Muito grave      10ÿ ÿMuito receio   \n",
       "3             9                  5                      9   \n",
       "4             7  10ÿ ÿ Muito grave                      9   \n",
       "\n",
       "                       AMIG_FAM_DIAG_CORONA  ...            ESTADO  \\\n",
       "0                               NÆo conhe‡o  ...      Minas Gerais   \n",
       "1  Sim. Conhe‡o casos CONFIRMADOS. Quantos?  ...      Minas Gerais   \n",
       "2                               NÆo conhe‡o  ...      Minas Gerais   \n",
       "3                               NÆo conhe‡o  ...  Distrito Federal   \n",
       "4                               NÆo conhe‡o  ...      Minas Gerais   \n",
       "\n",
       "      CIDADE_RMBH CIDADE_INTERIOR CIDADE_OUTROS_ESTADOS  \\\n",
       "0     Lagoa Santa             NaN                   NaN   \n",
       "1  Belo Horizonte             NaN                   NaN   \n",
       "2  Belo Horizonte             NaN                   NaN   \n",
       "3             NaN             NaN              Bras¡lia   \n",
       "4     Lagoa Santa             NaN                   NaN   \n",
       "\n",
       "                                            PEA_PNEA DESEMPREGADO_CRISE  \\\n",
       "0  Trabalhou (Empregado/ Por Conta Pr¢pria/ Empre...                NaN   \n",
       "1  Trabalhou (Empregado/ Por Conta Pr¢pria/ Empre...                NaN   \n",
       "2  Trabalhou (Empregado/ Por Conta Pr¢pria/ Empre...                NaN   \n",
       "3  Trabalhou (Empregado/ Por Conta Pr¢pria/ Empre...                NaN   \n",
       "4  Trabalhou (Empregado/ Por Conta Pr¢pria/ Empre...                NaN   \n",
       "\n",
       "  CONV_GRUPO_RISCO PEA_CLASS     LOCALIZA€ÇO CLASSE  \n",
       "0              Sim       PEA            RMBH    D/E  \n",
       "1              Sim       PEA  BELO HORIZONTE    D/E  \n",
       "2              NÆo       PEA  BELO HORIZONTE      B  \n",
       "3              NÆo       PEA  OUTROS ESTADOS      C  \n",
       "4              Sim       PEA            RMBH    D/E  \n",
       "\n",
       "[5 rows x 41 columns]"
      ]
     },
     "execution_count": 256,
     "metadata": {},
     "output_type": "execute_result"
    }
   ],
   "source": [
    "df.head()"
   ]
  },
  {
   "cell_type": "code",
   "execution_count": 257,
   "metadata": {},
   "outputs": [
    {
     "data": {
      "text/plain": [
       "ID                                    int64\n",
       "QUESTIONARIO_COMPLETO                object\n",
       "APOIO_ISOL_SOCIAL                    object\n",
       "COMP_FAM_ISOL_SOCIAL                 object\n",
       "NÖVEL_ISOL_SOCIAL                    object\n",
       "MAX_SEMANAS_APOIO_ISOL                int64\n",
       "RECEIO_CORONA                        object\n",
       "AVAL_GRAV_CORONA                     object\n",
       "RECEIO_AMIG_FAM_CORONA               object\n",
       "AMIG_FAM_DIAG_CORONA                 object\n",
       "QTD_CONHEC_DIAG_CORONA              float64\n",
       "AVAL_GOV_FEDERAL_COMBAT_CORONA       object\n",
       "AVAL_GOV_ESTADUAL_COMBAT_CORONA      object\n",
       "AVAL_GOV_MUNICIPAL_COMBAT_CORONA     object\n",
       "AVAL_IMPACT_ECON_MUNDIAL             object\n",
       "AVAL_IMPACT_ECON_NACIONAL            object\n",
       "AVAL_IMPACT_ECON_ESTADUAL            object\n",
       "AVAL_IMPACT_ECON_MUNICIPAL           object\n",
       "AVAL_IMPACT_CONTAS_FAMILIARES        object\n",
       "IMPACT_CORONA_RENDFAMILIAR           object\n",
       "REDUCAO_CORONA_RENDFAMILIAR          object\n",
       "INEC_INFLA€ÇO                        object\n",
       "INEC_DESEMPREGO                      object\n",
       "INEC_RENDA_PRàPRIA                   object\n",
       "INEC_SITUA€ÇO_FINANCEIRA             object\n",
       "INEC_ENDIVIDAMENTO                   object\n",
       "INEC_COMPRA_BENS_MAIOR_VALOR         object\n",
       "SEXO                                 object\n",
       "FAIXA_ETµRIA                         object\n",
       "RENDA_FAMILIAR                       object\n",
       "ESCOLARIDADE                         object\n",
       "ESTADO                               object\n",
       "CIDADE_RMBH                          object\n",
       "CIDADE_INTERIOR                      object\n",
       "CIDADE_OUTROS_ESTADOS                object\n",
       "PEA_PNEA                             object\n",
       "DESEMPREGADO_CRISE                   object\n",
       "CONV_GRUPO_RISCO                     object\n",
       "PEA_CLASS                            object\n",
       "LOCALIZA€ÇO                          object\n",
       "CLASSE                               object\n",
       "dtype: object"
      ]
     },
     "execution_count": 257,
     "metadata": {},
     "output_type": "execute_result"
    }
   ],
   "source": [
    "df.dtypes"
   ]
  },
  {
   "cell_type": "markdown",
   "metadata": {},
   "source": [
    " Conferindo quantidade linhas do arquivo x qtde linhas da coluna"
   ]
  },
  {
   "cell_type": "code",
   "execution_count": 258,
   "metadata": {},
   "outputs": [
    {
     "data": {
      "text/plain": [
       "(1445, 41)"
      ]
     },
     "execution_count": 258,
     "metadata": {},
     "output_type": "execute_result"
    }
   ],
   "source": [
    "df.shape"
   ]
  },
  {
   "cell_type": "code",
   "execution_count": 259,
   "metadata": {},
   "outputs": [
    {
     "data": {
      "text/plain": [
       "Index(['ID', 'QUESTIONARIO_COMPLETO', 'APOIO_ISOL_SOCIAL',\n",
       "       'COMP_FAM_ISOL_SOCIAL', 'NÖVEL_ISOL_SOCIAL', 'MAX_SEMANAS_APOIO_ISOL',\n",
       "       'RECEIO_CORONA', 'AVAL_GRAV_CORONA', 'RECEIO_AMIG_FAM_CORONA',\n",
       "       'AMIG_FAM_DIAG_CORONA', 'QTD_CONHEC_DIAG_CORONA',\n",
       "       'AVAL_GOV_FEDERAL_COMBAT_CORONA', 'AVAL_GOV_ESTADUAL_COMBAT_CORONA',\n",
       "       'AVAL_GOV_MUNICIPAL_COMBAT_CORONA', 'AVAL_IMPACT_ECON_MUNDIAL',\n",
       "       'AVAL_IMPACT_ECON_NACIONAL', 'AVAL_IMPACT_ECON_ESTADUAL',\n",
       "       'AVAL_IMPACT_ECON_MUNICIPAL', 'AVAL_IMPACT_CONTAS_FAMILIARES',\n",
       "       'IMPACT_CORONA_RENDFAMILIAR', 'REDUCAO_CORONA_RENDFAMILIAR',\n",
       "       'INEC_INFLA€ÇO', 'INEC_DESEMPREGO', 'INEC_RENDA_PRàPRIA',\n",
       "       'INEC_SITUA€ÇO_FINANCEIRA', 'INEC_ENDIVIDAMENTO',\n",
       "       'INEC_COMPRA_BENS_MAIOR_VALOR', 'SEXO', 'FAIXA_ETµRIA',\n",
       "       'RENDA_FAMILIAR', 'ESCOLARIDADE', 'ESTADO', 'CIDADE_RMBH',\n",
       "       'CIDADE_INTERIOR', 'CIDADE_OUTROS_ESTADOS', 'PEA_PNEA',\n",
       "       'DESEMPREGADO_CRISE', 'CONV_GRUPO_RISCO', 'PEA_CLASS', 'LOCALIZA€ÇO',\n",
       "       'CLASSE'],\n",
       "      dtype='object')"
      ]
     },
     "execution_count": 259,
     "metadata": {},
     "output_type": "execute_result"
    }
   ],
   "source": [
    "df.columns"
   ]
  },
  {
   "cell_type": "markdown",
   "metadata": {},
   "source": [
    " "
   ]
  },
  {
   "cell_type": "markdown",
   "metadata": {},
   "source": [
    "# Tratando as colunas"
   ]
  },
  {
   "cell_type": "markdown",
   "metadata": {},
   "source": [
    "Mudando o tipo de dado das colunas"
   ]
  },
  {
   "cell_type": "code",
   "execution_count": 260,
   "metadata": {},
   "outputs": [],
   "source": [
    "df.SEXO = df.SEXO.astype('category')"
   ]
  },
  {
   "cell_type": "code",
   "execution_count": 261,
   "metadata": {},
   "outputs": [],
   "source": [
    "df.APOIO_ISOL_SOCIAL = df.APOIO_ISOL_SOCIAL.astype('category')"
   ]
  },
  {
   "cell_type": "code",
   "execution_count": 262,
   "metadata": {},
   "outputs": [],
   "source": [
    "df.COMP_FAM_ISOL_SOCIAL = df.COMP_FAM_ISOL_SOCIAL.astype('category')"
   ]
  },
  {
   "cell_type": "code",
   "execution_count": 263,
   "metadata": {},
   "outputs": [],
   "source": [
    "df['FAIXA_ETµRIA'] = df['FAIXA_ETµRIA'].astype('category')"
   ]
  },
  {
   "cell_type": "code",
   "execution_count": 264,
   "metadata": {},
   "outputs": [],
   "source": [
    "df.NÖVEL_ISOL_SOCIAL = df.NÖVEL_ISOL_SOCIAL.astype('category')"
   ]
  },
  {
   "cell_type": "code",
   "execution_count": 265,
   "metadata": {},
   "outputs": [
    {
     "data": {
      "text/plain": [
       "ID                                     int64\n",
       "QUESTIONARIO_COMPLETO                 object\n",
       "APOIO_ISOL_SOCIAL                   category\n",
       "COMP_FAM_ISOL_SOCIAL                category\n",
       "NÖVEL_ISOL_SOCIAL                   category\n",
       "MAX_SEMANAS_APOIO_ISOL                 int64\n",
       "RECEIO_CORONA                         object\n",
       "AVAL_GRAV_CORONA                      object\n",
       "RECEIO_AMIG_FAM_CORONA                object\n",
       "AMIG_FAM_DIAG_CORONA                  object\n",
       "QTD_CONHEC_DIAG_CORONA               float64\n",
       "AVAL_GOV_FEDERAL_COMBAT_CORONA        object\n",
       "AVAL_GOV_ESTADUAL_COMBAT_CORONA       object\n",
       "AVAL_GOV_MUNICIPAL_COMBAT_CORONA      object\n",
       "AVAL_IMPACT_ECON_MUNDIAL              object\n",
       "AVAL_IMPACT_ECON_NACIONAL             object\n",
       "AVAL_IMPACT_ECON_ESTADUAL             object\n",
       "AVAL_IMPACT_ECON_MUNICIPAL            object\n",
       "AVAL_IMPACT_CONTAS_FAMILIARES         object\n",
       "IMPACT_CORONA_RENDFAMILIAR            object\n",
       "REDUCAO_CORONA_RENDFAMILIAR           object\n",
       "INEC_INFLA€ÇO                         object\n",
       "INEC_DESEMPREGO                       object\n",
       "INEC_RENDA_PRàPRIA                    object\n",
       "INEC_SITUA€ÇO_FINANCEIRA              object\n",
       "INEC_ENDIVIDAMENTO                    object\n",
       "INEC_COMPRA_BENS_MAIOR_VALOR          object\n",
       "SEXO                                category\n",
       "FAIXA_ETµRIA                        category\n",
       "RENDA_FAMILIAR                        object\n",
       "ESCOLARIDADE                          object\n",
       "ESTADO                                object\n",
       "CIDADE_RMBH                           object\n",
       "CIDADE_INTERIOR                       object\n",
       "CIDADE_OUTROS_ESTADOS                 object\n",
       "PEA_PNEA                              object\n",
       "DESEMPREGADO_CRISE                    object\n",
       "CONV_GRUPO_RISCO                      object\n",
       "PEA_CLASS                             object\n",
       "LOCALIZA€ÇO                           object\n",
       "CLASSE                                object\n",
       "dtype: object"
      ]
     },
     "execution_count": 265,
     "metadata": {},
     "output_type": "execute_result"
    }
   ],
   "source": [
    "df.dtypes"
   ]
  },
  {
   "cell_type": "raw",
   "metadata": {},
   "source": [
    "ENCONTRANDO DADOS FALTANTES"
   ]
  },
  {
   "cell_type": "code",
   "execution_count": 266,
   "metadata": {},
   "outputs": [
    {
     "data": {
      "text/plain": [
       "ID                                     0\n",
       "QUESTIONARIO_COMPLETO                  0\n",
       "APOIO_ISOL_SOCIAL                      0\n",
       "COMP_FAM_ISOL_SOCIAL                   0\n",
       "NÖVEL_ISOL_SOCIAL                      0\n",
       "MAX_SEMANAS_APOIO_ISOL                 0\n",
       "RECEIO_CORONA                         22\n",
       "AVAL_GRAV_CORONA                      22\n",
       "RECEIO_AMIG_FAM_CORONA                22\n",
       "AMIG_FAM_DIAG_CORONA                  22\n",
       "QTD_CONHEC_DIAG_CORONA              1194\n",
       "AVAL_GOV_FEDERAL_COMBAT_CORONA        42\n",
       "AVAL_GOV_ESTADUAL_COMBAT_CORONA       42\n",
       "AVAL_GOV_MUNICIPAL_COMBAT_CORONA      42\n",
       "AVAL_IMPACT_ECON_MUNDIAL              55\n",
       "AVAL_IMPACT_ECON_NACIONAL             59\n",
       "AVAL_IMPACT_ECON_ESTADUAL             55\n",
       "AVAL_IMPACT_ECON_MUNICIPAL            53\n",
       "AVAL_IMPACT_CONTAS_FAMILIARES         52\n",
       "IMPACT_CORONA_RENDFAMILIAR            52\n",
       "REDUCAO_CORONA_RENDFAMILIAR          593\n",
       "INEC_INFLA€ÇO                         80\n",
       "INEC_DESEMPREGO                       79\n",
       "INEC_RENDA_PRàPRIA                    79\n",
       "INEC_SITUA€ÇO_FINANCEIRA              76\n",
       "INEC_ENDIVIDAMENTO                    76\n",
       "INEC_COMPRA_BENS_MAIOR_VALOR          76\n",
       "SEXO                                  96\n",
       "FAIXA_ETµRIA                          96\n",
       "RENDA_FAMILIAR                        96\n",
       "ESCOLARIDADE                          96\n",
       "ESTADO                                96\n",
       "CIDADE_RMBH                          526\n",
       "CIDADE_INTERIOR                     1328\n",
       "CIDADE_OUTROS_ESTADOS               1020\n",
       "PEA_PNEA                             108\n",
       "DESEMPREGADO_CRISE                  1363\n",
       "CONV_GRUPO_RISCO                     110\n",
       "PEA_CLASS                            108\n",
       "LOCALIZA€ÇO                           99\n",
       "CLASSE                                96\n",
       "dtype: int64"
      ]
     },
     "execution_count": 266,
     "metadata": {},
     "output_type": "execute_result"
    }
   ],
   "source": [
    "df.isna().sum()"
   ]
  },
  {
   "cell_type": "markdown",
   "metadata": {},
   "source": [
    "INCLUINDO CATEGORIAS 'UNKNOWN' E SUBSTITUINDO DADOS FALTANTES"
   ]
  },
  {
   "cell_type": "code",
   "execution_count": 267,
   "metadata": {},
   "outputs": [
    {
     "data": {
      "text/plain": [
       "96"
      ]
     },
     "execution_count": 267,
     "metadata": {},
     "output_type": "execute_result"
    }
   ],
   "source": [
    "df['SEXO'].isna().sum()"
   ]
  },
  {
   "cell_type": "code",
   "execution_count": 268,
   "metadata": {},
   "outputs": [
    {
     "data": {
      "text/plain": [
       "0       Masculino\n",
       "1       Masculino\n",
       "2       Masculino\n",
       "3       Masculino\n",
       "4        Feminino\n",
       "          ...    \n",
       "1440     Feminino\n",
       "1441     Feminino\n",
       "1442      Unknown\n",
       "1443     Feminino\n",
       "1444     Feminino\n",
       "Name: SEXO, Length: 1445, dtype: category\n",
       "Categories (3, object): [Feminino, Masculino, Unknown]"
      ]
     },
     "execution_count": 268,
     "metadata": {},
     "output_type": "execute_result"
    }
   ],
   "source": [
    "df['SEXO'] = df['SEXO'].cat.add_categories('Unknown')\n",
    "df['SEXO'].fillna('Unknown', inplace =True)\n",
    "df['SEXO']"
   ]
  },
  {
   "cell_type": "code",
   "execution_count": 274,
   "metadata": {},
   "outputs": [
    {
     "data": {
      "text/plain": [
       "0"
      ]
     },
     "execution_count": 274,
     "metadata": {},
     "output_type": "execute_result"
    }
   ],
   "source": [
    "df['SEXO'].isna().sum()"
   ]
  },
  {
   "cell_type": "code",
   "execution_count": 269,
   "metadata": {},
   "outputs": [
    {
     "data": {
      "text/plain": [
       "96"
      ]
     },
     "execution_count": 269,
     "metadata": {},
     "output_type": "execute_result"
    }
   ],
   "source": [
    "df['FAIXA_ETµRIA'].isna().sum()"
   ]
  },
  {
   "cell_type": "code",
   "execution_count": 270,
   "metadata": {},
   "outputs": [
    {
     "data": {
      "text/plain": [
       "0          30 a 44 anos\n",
       "1          30 a 44 anos\n",
       "2          30 a 44 anos\n",
       "3          30 a 44 anos\n",
       "4          45 a 59 anos\n",
       "             ...       \n",
       "1440       45 a 59 anos\n",
       "1441    60 anos ou mais\n",
       "1442            Unknown\n",
       "1443    60 anos ou mais\n",
       "1444       16 a 29 anos\n",
       "Name: FAIXA_ETµRIA, Length: 1445, dtype: category\n",
       "Categories (5, object): [16 a 29 anos, 30 a 44 anos, 45 a 59 anos, 60 anos ou mais, Unknown]"
      ]
     },
     "execution_count": 270,
     "metadata": {},
     "output_type": "execute_result"
    }
   ],
   "source": [
    "df['FAIXA_ETµRIA'] = df['FAIXA_ETµRIA'].cat.add_categories('Unknown')\n",
    "df['FAIXA_ETµRIA'].fillna('Unknown', inplace =True)\n",
    "df['FAIXA_ETµRIA']"
   ]
  },
  {
   "cell_type": "code",
   "execution_count": 273,
   "metadata": {},
   "outputs": [
    {
     "data": {
      "text/plain": [
       "0"
      ]
     },
     "execution_count": 273,
     "metadata": {},
     "output_type": "execute_result"
    }
   ],
   "source": [
    "df['FAIXA_ETµRIA'].isna().sum()"
   ]
  },
  {
   "cell_type": "markdown",
   "metadata": {},
   "source": [
    " "
   ]
  },
  {
   "cell_type": "markdown",
   "metadata": {},
   "source": [
    "Corrigindo colunas: manter somente números nas colunas selecionadas:"
   ]
  },
  {
   "cell_type": "code",
   "execution_count": 272,
   "metadata": {},
   "outputs": [
    {
     "data": {
      "text/plain": [
       "10ÿ ÿMuito    487\n",
       "8             308\n",
       "9             247\n",
       "7             154\n",
       "5              90\n",
       "6              77\n",
       "4              27\n",
       "3              20\n",
       "NÆo Sabe       13\n",
       "0ÿ ÿNada        8\n",
       "2               7\n",
       "1               7\n",
       "Name: COMP_FAM_ISOL_SOCIAL, dtype: int64"
      ]
     },
     "execution_count": 272,
     "metadata": {},
     "output_type": "execute_result"
    }
   ],
   "source": [
    "df['COMP_FAM_ISOL_SOCIAL'].value_counts()"
   ]
  },
  {
   "cell_type": "code",
   "execution_count": 275,
   "metadata": {},
   "outputs": [
    {
     "data": {
      "text/plain": [
       "10    487\n",
       "8     308\n",
       "9     247\n",
       "7     154\n",
       "5      90\n",
       "6      77\n",
       "4      27\n",
       "3      20\n",
       "       13\n",
       "0       8\n",
       "2       7\n",
       "1       7\n",
       "Name: AJUS_COMP_FAM_ISOL_SOCIAL, dtype: int64"
      ]
     },
     "execution_count": 275,
     "metadata": {},
     "output_type": "execute_result"
    }
   ],
   "source": [
    "df['AJUS_COMP_FAM_ISOL_SOCIAL'] = df['COMP_FAM_ISOL_SOCIAL'].apply(lambda x: ''.join(filter(str.isdigit, x)))\n",
    "df['AJUS_COMP_FAM_ISOL_SOCIAL'].value_counts()"
   ]
  },
  {
   "cell_type": "code",
   "execution_count": 276,
   "metadata": {},
   "outputs": [
    {
     "data": {
      "text/plain": [
       "10ÿ Muito    849\n",
       "5            128\n",
       "8            110\n",
       "9            108\n",
       "7             84\n",
       "6             38\n",
       "0ÿ ÿ Nada     35\n",
       "3             30\n",
       "4             25\n",
       "2             25\n",
       "1             10\n",
       "NÆo Sabe       3\n",
       "Name: APOIO_ISOL_SOCIAL, dtype: int64"
      ]
     },
     "execution_count": 276,
     "metadata": {},
     "output_type": "execute_result"
    }
   ],
   "source": [
    "df['APOIO_ISOL_SOCIAL'].value_counts()"
   ]
  },
  {
   "cell_type": "code",
   "execution_count": 277,
   "metadata": {},
   "outputs": [
    {
     "data": {
      "text/plain": [
       "10    849\n",
       "5     128\n",
       "8     110\n",
       "9     108\n",
       "7      84\n",
       "6      38\n",
       "0      35\n",
       "3      30\n",
       "4      25\n",
       "2      25\n",
       "1      10\n",
       "        3\n",
       "Name: AJUS_APOIO_ISOL_SOCIAL, dtype: int64"
      ]
     },
     "execution_count": 277,
     "metadata": {},
     "output_type": "execute_result"
    }
   ],
   "source": [
    "df['AJUS_APOIO_ISOL_SOCIAL'] = df['APOIO_ISOL_SOCIAL'].apply(lambda x: ''.join(filter(str.isdigit, x)))\n",
    "df['AJUS_APOIO_ISOL_SOCIAL'].value_counts()"
   ]
  },
  {
   "cell_type": "markdown",
   "metadata": {},
   "source": [
    " "
   ]
  },
  {
   "cell_type": "markdown",
   "metadata": {},
   "source": [
    "Corrigindo caracteres especiais:"
   ]
  },
  {
   "cell_type": "code",
   "execution_count": 285,
   "metadata": {},
   "outputs": [
    {
     "data": {
      "text/plain": [
       "'Est\\xa0 fazendo o isolamento com rigor, mas precisa sair para as atividades essenciais, como supermercado, farm\\xa0cia, bancos e outros'"
      ]
     },
     "execution_count": 285,
     "metadata": {},
     "output_type": "execute_result"
    }
   ],
   "source": [
    "df['NÖVEL_ISOL_SOCIAL'][100]"
   ]
  },
  {
   "cell_type": "code",
   "execution_count": 287,
   "metadata": {},
   "outputs": [],
   "source": [
    "def corrigir_nomes(nome):\n",
    "    nome = nome.replace('\\xa0', 'a').replace('Æo', 'ao')\n",
    "    return nome"
   ]
  },
  {
   "cell_type": "code",
   "execution_count": 288,
   "metadata": {},
   "outputs": [
    {
     "data": {
      "text/plain": [
       "CategoricalDtype(categories=['Esta fazendo o isolamento com rigor, mas precisa sair para as atividades essenciais, como supermercado, farmacia, bancos e outros',\n",
       "                  'Esta fazendo o isolamento irrestrito e nao sai de casa para nada',\n",
       "                  'Nao esta fazendo isolamento e nem reduziu o contato social',\n",
       "                  'Nao esta no isolamento porque sua atividade ‚ essencial (M‚dicos, Pol¡cia, Trabalhadores de Supermercado, Farmacias, Outros)',\n",
       "                  'Reduziu o contato social, mas nao esta fazendo o isolamento'],\n",
       "                 ordered=False)"
      ]
     },
     "execution_count": 288,
     "metadata": {},
     "output_type": "execute_result"
    }
   ],
   "source": [
    "df['NÖVEL_ISOL_SOCIAL'] = df['NÖVEL_ISOL_SOCIAL'].apply(corrigir_nomes)\n",
    "df['NÖVEL_ISOL_SOCIAL'].dtype"
   ]
  },
  {
   "cell_type": "markdown",
   "metadata": {},
   "source": [
    " "
   ]
  },
  {
   "cell_type": "markdown",
   "metadata": {},
   "source": [
    "Removendo excesso de espaços:"
   ]
  },
  {
   "cell_type": "code",
   "execution_count": 289,
   "metadata": {},
   "outputs": [
    {
     "data": {
      "text/plain": [
       "'Esta fazendo o isolamento com rigor, mas precisa sair para as atividades essenciais, como supermercado, farmacia, bancos e outros'"
      ]
     },
     "execution_count": 289,
     "metadata": {},
     "output_type": "execute_result"
    }
   ],
   "source": [
    "df['NÖVEL_ISOL_SOCIAL'][10]"
   ]
  },
  {
   "cell_type": "code",
   "execution_count": 290,
   "metadata": {},
   "outputs": [],
   "source": [
    "df['NÖVEL_ISOL_SOCIAL'] = df['NÖVEL_ISOL_SOCIAL'].apply(lambda x: ''.join(filter(str, x)))"
   ]
  },
  {
   "cell_type": "code",
   "execution_count": 291,
   "metadata": {},
   "outputs": [
    {
     "data": {
      "text/plain": [
       "0       Reduziu o contato social, mas nao esta fazendo...\n",
       "1       Esta fazendo o isolamento com rigor, mas preci...\n",
       "2       Esta fazendo o isolamento com rigor, mas preci...\n",
       "3       Esta fazendo o isolamento com rigor, mas preci...\n",
       "4       Esta fazendo o isolamento com rigor, mas preci...\n",
       "                              ...                        \n",
       "1440    Esta fazendo o isolamento com rigor, mas preci...\n",
       "1441    Esta fazendo o isolamento irrestrito e nao sai...\n",
       "1442    Esta fazendo o isolamento com rigor, mas preci...\n",
       "1443    Esta fazendo o isolamento com rigor, mas preci...\n",
       "1444    Esta fazendo o isolamento com rigor, mas preci...\n",
       "Name: NÖVEL_ISOL_SOCIAL, Length: 1445, dtype: category\n",
       "Categories (5, object): [Esta fazendo o isolamento com rigor, mas preci..., Esta fazendo o isolamento irrestrito e nao sai..., Nao esta fazendo isolamento e nem reduziu o co..., Nao esta no isolamento porque sua atividade ‚ ..., Reduziu o contato social, mas nao esta fazendo...]"
      ]
     },
     "execution_count": 291,
     "metadata": {},
     "output_type": "execute_result"
    }
   ],
   "source": [
    "df['NÖVEL_ISOL_SOCIAL']"
   ]
  },
  {
   "cell_type": "markdown",
   "metadata": {},
   "source": [
    "Conferindo as alterações:"
   ]
  },
  {
   "cell_type": "code",
   "execution_count": 292,
   "metadata": {},
   "outputs": [
    {
     "data": {
      "text/plain": [
       "'Esta fazendo o isolamento com rigor, mas precisa sair para as atividades essenciais, como supermercado, farmacia, bancos e outros'"
      ]
     },
     "execution_count": 292,
     "metadata": {},
     "output_type": "execute_result"
    }
   ],
   "source": [
    "df['NÖVEL_ISOL_SOCIAL'][10]"
   ]
  },
  {
   "cell_type": "code",
   "execution_count": 293,
   "metadata": {},
   "outputs": [
    {
     "data": {
      "text/plain": [
       "Esta fazendo o isolamento com rigor, mas precisa sair para as atividades essenciais, como supermercado, farmacia, bancos e outros    944\n",
       "Esta fazendo o isolamento irrestrito e nao sai de casa para nada                                                                     213\n",
       "Nao esta no isolamento porque sua atividade ‚ essencial (M‚dicos, Pol¡cia, Trabalhadores de Supermercado, Farmacias, Outros)         155\n",
       "Reduziu o contato social, mas nao esta fazendo o isolamento                                                                          121\n",
       "Nao esta fazendo isolamento e nem reduziu o contato social                                                                            12\n",
       "Name: NÖVEL_ISOL_SOCIAL, dtype: int64"
      ]
     },
     "execution_count": 293,
     "metadata": {},
     "output_type": "execute_result"
    }
   ],
   "source": [
    "df['NÖVEL_ISOL_SOCIAL'].value_counts()"
   ]
  },
  {
   "cell_type": "markdown",
   "metadata": {},
   "source": [
    " "
   ]
  },
  {
   "cell_type": "markdown",
   "metadata": {},
   "source": [
    "NOVA BASE"
   ]
  },
  {
   "cell_type": "code",
   "execution_count": 305,
   "metadata": {},
   "outputs": [
    {
     "data": {
      "text/plain": [
       "<bound method NDFrame.head of         ID AJUS_APOIO_ISOL_SOCIAL AJUS_COMP_FAM_ISOL_SOCIAL     FAIXA_ETµRIA  \\\n",
       "0        1                      7                         6     30 a 44 anos   \n",
       "1        2                      6                        10     30 a 44 anos   \n",
       "2        3                      9                         8     30 a 44 anos   \n",
       "3        4                      7                         8     30 a 44 anos   \n",
       "4        5                      9                         9     45 a 59 anos   \n",
       "...    ...                    ...                       ...              ...   \n",
       "1440  1441                      5                         8     45 a 59 anos   \n",
       "1441  1442                     10                        10  60 anos ou mais   \n",
       "1442  1443                      3                         0          Unknown   \n",
       "1443  1444                     10                        10  60 anos ou mais   \n",
       "1444  1445                     10                        10     16 a 29 anos   \n",
       "\n",
       "                                      NÖVEL_ISOL_SOCIAL       SEXO  \n",
       "0     Reduziu o contato social, mas nao esta fazendo...  Masculino  \n",
       "1     Esta fazendo o isolamento com rigor, mas preci...  Masculino  \n",
       "2     Esta fazendo o isolamento com rigor, mas preci...  Masculino  \n",
       "3     Esta fazendo o isolamento com rigor, mas preci...  Masculino  \n",
       "4     Esta fazendo o isolamento com rigor, mas preci...   Feminino  \n",
       "...                                                 ...        ...  \n",
       "1440  Esta fazendo o isolamento com rigor, mas preci...   Feminino  \n",
       "1441  Esta fazendo o isolamento irrestrito e nao sai...   Feminino  \n",
       "1442  Esta fazendo o isolamento com rigor, mas preci...    Unknown  \n",
       "1443  Esta fazendo o isolamento com rigor, mas preci...   Feminino  \n",
       "1444  Esta fazendo o isolamento com rigor, mas preci...   Feminino  \n",
       "\n",
       "[1445 rows x 6 columns]>"
      ]
     },
     "execution_count": 305,
     "metadata": {},
     "output_type": "execute_result"
    }
   ],
   "source": [
    "base = df[['ID','AJUS_APOIO_ISOL_SOCIAL','AJUS_COMP_FAM_ISOL_SOCIAL','FAIXA_ETµRIA','NÖVEL_ISOL_SOCIAL','SEXO']]\n",
    "base.head"
   ]
  },
  {
   "cell_type": "code",
   "execution_count": 306,
   "metadata": {},
   "outputs": [
    {
     "data": {
      "text/plain": [
       "Index(['ID', 'APOIO_ISOL_SOCIAL', 'COMP_FAM_ISOL_SOCIAL', 'FAIXA_ETARIA',\n",
       "       'NIVEL_ISOL_SOCIAL', 'SEXO'],\n",
       "      dtype='object')"
      ]
     },
     "execution_count": 306,
     "metadata": {},
     "output_type": "execute_result"
    }
   ],
   "source": [
    "base.columns = ['ID','APOIO_ISOL_SOCIAL','COMP_FAM_ISOL_SOCIAL','FAIXA_ETARIA','NIVEL_ISOL_SOCIAL','SEXO']\n",
    "base.columns"
   ]
  },
  {
   "cell_type": "raw",
   "metadata": {},
   "source": [
    "Conferir quantidade de linhas:"
   ]
  },
  {
   "cell_type": "code",
   "execution_count": 307,
   "metadata": {},
   "outputs": [
    {
     "name": "stdout",
     "output_type": "stream",
     "text": [
      "<class 'pandas.core.frame.DataFrame'>\n",
      "RangeIndex: 1445 entries, 0 to 1444\n",
      "Data columns (total 6 columns):\n",
      " #   Column                Non-Null Count  Dtype   \n",
      "---  ------                --------------  -----   \n",
      " 0   ID                    1445 non-null   int64   \n",
      " 1   APOIO_ISOL_SOCIAL     1445 non-null   category\n",
      " 2   COMP_FAM_ISOL_SOCIAL  1445 non-null   category\n",
      " 3   FAIXA_ETARIA          1445 non-null   category\n",
      " 4   NIVEL_ISOL_SOCIAL     1445 non-null   category\n",
      " 5   SEXO                  1445 non-null   category\n",
      "dtypes: category(5), int64(1)\n",
      "memory usage: 19.8 KB\n"
     ]
    }
   ],
   "source": [
    "base.info()"
   ]
  },
  {
   "cell_type": "code",
   "execution_count": 308,
   "metadata": {},
   "outputs": [
    {
     "data": {
      "text/plain": [
       "ID                         int64\n",
       "APOIO_ISOL_SOCIAL       category\n",
       "COMP_FAM_ISOL_SOCIAL    category\n",
       "FAIXA_ETARIA            category\n",
       "NIVEL_ISOL_SOCIAL       category\n",
       "SEXO                    category\n",
       "dtype: object"
      ]
     },
     "execution_count": 308,
     "metadata": {},
     "output_type": "execute_result"
    }
   ],
   "source": [
    "base.dtypes"
   ]
  },
  {
   "cell_type": "code",
   "execution_count": 309,
   "metadata": {},
   "outputs": [
    {
     "data": {
      "text/plain": [
       "array([[1, '7', '6', '30 a 44 anos',\n",
       "        'Reduziu o contato social, mas nao esta fazendo o isolamento',\n",
       "        'Masculino'],\n",
       "       [2, '6', '10', '30 a 44 anos',\n",
       "        'Esta fazendo o isolamento com rigor, mas precisa sair para as atividades essenciais, como supermercado, farmacia, bancos e outros',\n",
       "        'Masculino'],\n",
       "       [3, '9', '8', '30 a 44 anos',\n",
       "        'Esta fazendo o isolamento com rigor, mas precisa sair para as atividades essenciais, como supermercado, farmacia, bancos e outros',\n",
       "        'Masculino'],\n",
       "       ...,\n",
       "       [1443, '3', '0', 'Unknown',\n",
       "        'Esta fazendo o isolamento com rigor, mas precisa sair para as atividades essenciais, como supermercado, farmacia, bancos e outros',\n",
       "        'Unknown'],\n",
       "       [1444, '10', '10', '60 anos ou mais',\n",
       "        'Esta fazendo o isolamento com rigor, mas precisa sair para as atividades essenciais, como supermercado, farmacia, bancos e outros',\n",
       "        'Feminino'],\n",
       "       [1445, '10', '10', '16 a 29 anos',\n",
       "        'Esta fazendo o isolamento com rigor, mas precisa sair para as atividades essenciais, como supermercado, farmacia, bancos e outros',\n",
       "        'Feminino']], dtype=object)"
      ]
     },
     "execution_count": 309,
     "metadata": {},
     "output_type": "execute_result"
    }
   ],
   "source": [
    "base.values"
   ]
  },
  {
   "cell_type": "code",
   "execution_count": null,
   "metadata": {},
   "outputs": [],
   "source": []
  },
  {
   "cell_type": "markdown",
   "metadata": {},
   "source": [
    "Exportando csv"
   ]
  },
  {
   "cell_type": "code",
   "execution_count": 310,
   "metadata": {},
   "outputs": [],
   "source": [
    "base.to_csv('base_ajustada.csv', sep = ';', decimal = ',', index = False)"
   ]
  },
  {
   "cell_type": "code",
   "execution_count": null,
   "metadata": {},
   "outputs": [],
   "source": []
  }
 ],
 "metadata": {
  "kernelspec": {
   "display_name": "Python 3",
   "language": "python",
   "name": "python3"
  },
  "language_info": {
   "codemirror_mode": {
    "name": "ipython",
    "version": 3
   },
   "file_extension": ".py",
   "mimetype": "text/x-python",
   "name": "python",
   "nbconvert_exporter": "python",
   "pygments_lexer": "ipython3",
   "version": "3.7.6"
  }
 },
 "nbformat": 4,
 "nbformat_minor": 4
}
